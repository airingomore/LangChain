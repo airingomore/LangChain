{
 "cells": [
  {
   "cell_type": "code",
   "execution_count": 1,
   "id": "67f537d1",
   "metadata": {},
   "outputs": [
    {
     "data": {
      "text/plain": [
       "True"
      ]
     },
     "execution_count": 1,
     "metadata": {},
     "output_type": "execute_result"
    }
   ],
   "source": [
    "import os\n",
    "from dotenv import load_dotenv, find_dotenv\n",
    "load_dotenv(find_dotenv(), override=True)"
   ]
  },
  {
   "cell_type": "code",
   "execution_count": 2,
   "id": "5e8ebfc1",
   "metadata": {},
   "outputs": [],
   "source": [
    "#pip install pypdf -q"
   ]
  },
  {
   "cell_type": "code",
   "execution_count": 3,
   "id": "f18cbc1a",
   "metadata": {},
   "outputs": [],
   "source": [
    "def load_document(file):\n",
    "    from langchain.document_loaders import PyPDFLoader\n",
    "    # each document contains the page, content and metadata with a page number\n",
    "    print(f'Loading {file}')\n",
    "    loader = PyPDFLoader(file)\n",
    "    data = loader.load()\n",
    "    return data"
   ]
  },
  {
   "cell_type": "markdown",
   "id": "09c39fd3",
   "metadata": {},
   "source": [
    "### Running code"
   ]
  },
  {
   "cell_type": "code",
   "execution_count": 9,
   "id": "34168e89",
   "metadata": {},
   "outputs": [
    {
     "name": "stdout",
     "output_type": "stream",
     "text": [
      "Loading files/Análisis+de+un+sector+2.0.pdf\n",
      "{'source': 'files/Análisis+de+un+sector+2.0.pdf', 'page': 1}\n",
      "You have 10 pages in your data\n",
      "There are 2311\n"
     ]
    }
   ],
   "source": [
    "data = load_document('files/Análisis+de+un+sector+2.0.pdf')\n",
    "#print(data[1].page_content)\n",
    "print(data[1].metadata)\n",
    "print(f'You have {len(data)} pages in your data')\n",
    "print(f'There are {len(data[2].page_content)} characters in the page')"
   ]
  },
  {
   "cell_type": "code",
   "execution_count": null,
   "id": "fec2f6f8",
   "metadata": {},
   "outputs": [],
   "source": []
  }
 ],
 "metadata": {
  "kernelspec": {
   "display_name": "Python 3 (ipykernel)",
   "language": "python",
   "name": "python3"
  },
  "language_info": {
   "codemirror_mode": {
    "name": "ipython",
    "version": 3
   },
   "file_extension": ".py",
   "mimetype": "text/x-python",
   "name": "python",
   "nbconvert_exporter": "python",
   "pygments_lexer": "ipython3",
   "version": "3.10.9"
  }
 },
 "nbformat": 4,
 "nbformat_minor": 5
}
