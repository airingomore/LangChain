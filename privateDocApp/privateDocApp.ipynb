{
 "cells": [
  {
   "cell_type": "code",
   "execution_count": 1,
   "id": "67f537d1",
   "metadata": {},
   "outputs": [
    {
     "data": {
      "text/plain": [
       "True"
      ]
     },
     "execution_count": 1,
     "metadata": {},
     "output_type": "execute_result"
    }
   ],
   "source": [
    "import os\n",
    "from dotenv import load_dotenv, find_dotenv\n",
    "load_dotenv(find_dotenv(), override=True)"
   ]
  },
  {
   "cell_type": "code",
   "execution_count": 2,
   "id": "5e8ebfc1",
   "metadata": {},
   "outputs": [],
   "source": [
    "#pip install pypdf -q"
   ]
  },
  {
   "cell_type": "code",
   "execution_count": 3,
   "id": "c3f221f2",
   "metadata": {},
   "outputs": [],
   "source": [
    "#pip install docx2txt -q"
   ]
  },
  {
   "cell_type": "code",
   "execution_count": 7,
   "id": "3a1d0412",
   "metadata": {},
   "outputs": [
    {
     "name": "stdout",
     "output_type": "stream",
     "text": [
      "Note: you may need to restart the kernel to use updated packages.\n"
     ]
    }
   ],
   "source": [
    "#pip install wikipedia -q"
   ]
  },
  {
   "cell_type": "code",
   "execution_count": 2,
   "id": "f18cbc1a",
   "metadata": {},
   "outputs": [],
   "source": [
    "def load_document(file):\n",
    "    import os\n",
    "    name,extension = os.path.splitext(file)\n",
    "    \n",
    "    if extension == '.pdf':\n",
    "        from langchain.document_loaders import PyPDFLoader\n",
    "        # each document contains the page, content and metadata with a page number\n",
    "        print(f'Loading {file}')\n",
    "        loader = PyPDFLoader(file)\n",
    "    elif extension == '.docx':\n",
    "        from langchain.document_loaders import Docx2txtLoader\n",
    "        print(f'Loading {file}')\n",
    "        loader = Docx2txtLoader(file)\n",
    "    else:\n",
    "        print('Document format is not supported!')\n",
    "    \n",
    "    data = loader.load()\n",
    "    return data\n",
    "\n",
    "def load_from_wikipedia(query,lang='en', load_max_docs=2):\n",
    "    from langchain.document_loaders import WikipediaLoader\n",
    "    loader = WikipediaLoader(query=query,lang=lang,load_max_docs=load_max_docs)\n",
    "    data = loader.load()\n",
    "    return data"
   ]
  },
  {
   "cell_type": "markdown",
   "id": "09c39fd3",
   "metadata": {},
   "source": [
    "### Running code"
   ]
  },
  {
   "cell_type": "code",
   "execution_count": 3,
   "id": "34168e89",
   "metadata": {},
   "outputs": [
    {
     "name": "stdout",
     "output_type": "stream",
     "text": [
      "Loading files/Análisis+de+un+sector+2.0.pdf\n",
      "{'source': 'files/Análisis+de+un+sector+2.0.pdf', 'page': 1}\n",
      "You have 10 pages in your data\n",
      "There are 2311 characters in the page\n"
     ]
    }
   ],
   "source": [
    "data = load_document('files/Análisis+de+un+sector+2.0.pdf')\n",
    "#print(data[1].page_content)\n",
    "print(data[1].metadata)\n",
    "print(f'You have {len(data)} pages in your data')\n",
    "print(f'There are {len(data[2].page_content)} characters in the page')"
   ]
  },
  {
   "cell_type": "code",
   "execution_count": 4,
   "id": "fec2f6f8",
   "metadata": {},
   "outputs": [
    {
     "name": "stdout",
     "output_type": "stream",
     "text": [
      "Loading files/00217 - Vivir Sin Jefe - Sergio Fernández.pdf\n",
      "{'source': 'files/00217 - Vivir Sin Jefe - Sergio Fernández.pdf', 'page': 1}\n",
      "You have 138 pages in your data\n",
      "There are 82 characters in the page\n"
     ]
    }
   ],
   "source": [
    "data = load_document('files/00217 - Vivir Sin Jefe - Sergio Fernández.pdf')\n",
    "#print(data[1].page_content)\n",
    "print(data[1].metadata)\n",
    "print(f'You have {len(data)} pages in your data')\n",
    "print(f'There are {len(data[2].page_content)} characters in the page')"
   ]
  },
  {
   "cell_type": "code",
   "execution_count": 8,
   "id": "10763297",
   "metadata": {},
   "outputs": [
    {
     "name": "stdout",
     "output_type": "stream",
     "text": [
      "GPT-4 (Generative Pre-trained Transformer 4) es un modelo de lenguaje grande (LLM) creado por OpenAI. Se lanzó el 14 de marzo de 2023[1]​ y está disponible a través de la API y para los usuarios de ChatGPT Plus.[2]​[3]​[4]​\n",
      "Como modelo basado en transformer, GPT-4 fue preentrenado para predecir el siguiente token (utilizando tanto datos públicos como \"datos con licencia de proveedores de terceros\"), y luego fue ajustado mediante aprendizaje por refuerzo a partir de retroalimentación humana e inteligencia artificial (IA), para lograr una alineación con el ser humano y cumplir con las políticas.[5]​\n",
      "Resumiendo rumores de otros sitios, la revista técnica Vox informó de que GPT-4 era \"a todas luces\" superior a los modelos GPT-3 y GPT-3.5 de OpenAI lanzados anteriormente.[6]​[7]​[8]​ The Verge también citó rumores de que aumentaría sustancialmente el número de parámetros de GPT-3 de 175.000 millones a 100 billones, algo que el director ejecutivo de OpenAI, Sam Altman, describió como \"una completa gilipollez\".[9]​ Los representantes estadounidenses Don Beyer y Ted Lieu confirmaron al New York Times que Altman visitó el Congreso en enero de 2023 para hacer una demostración de GPT-4 y sus \"controles de seguridad\" mejorados en comparación con otros modelos de IA.[10]​\n",
      "La organización produjo dos versiones de GPT-4 con contexto de 8192 y 32768 tokens, una mejora significativa sobre GPT-3.5 y GPT-3, que estaban limitados a 4096 y 2048 tokens respectivamente.[11]​ A diferencia de su predecesor, GPT-4 puede tomar imágenes además de texto como entradas.[12]​\n",
      "\n",
      "\n",
      "== Antecedentes ==\n",
      "OpenAI presentó el primer modelo GPT (GPT-1) en 2018, publicando un artículo llamado \"Mejorando la comprensión del lenguaje mediante el preentrenamiento generativo\".[13]​ Estaba basado en la arquitectura de transformers y fue entrenado en un gran corpus de libros.[14]​ Al año siguiente, introdujeron GPT-2, un modelo más grande capaz de generar texto coherente.[15]​ En 2020, introdujeron GPT-3, un modelo con 100 veces más parámetros que GPT-2, capaz de realizar diversas tareas con pocos ejemplos.[16]​ GPT-3 se mejoró aún más en GPT-3.5, que se utilizó para crear el producto de chatbot ChatGPT.\n",
      "Los rumores afirman que GPT-4 tiene 1,760 millones de parámetros, lo cual fue estimado por primera vez según la velocidad de funcionamiento y por George Hotz.[17]​\n",
      "\n",
      "\n",
      "== Capacidades ==\n",
      "OpenAI afirmó que GPT-4 es \"más confiable, creativo y capaz de manejar instrucciones mucho más matizadas que GPT-3.5.\"[18]​ Produjeron dos versiones de GPT-4, con ventanas de contexto de 8,192 y 32,768 tokens, una mejora significativa sobre GPT-3.5 y GPT-3, que estaban limitados a 4,096 y 2,049 tokens, respectivamente.[19]​ Algunas de las capacidades de GPT-4 fueron previstas por OpenAI antes de entrenarlo, aunque otras capacidades seguían siendo difíciles de predecir debido a las leyes de escalamiento rotas[20]​ en las leyes de escalamiento en los resultados. A diferencia de sus predecesores, GPT-4 es un modelo multimodal: puede tomar imágenes además de texto como entrada;[21]​ esto le otorga la capacidad de describir el humor en imágenes inusuales, resumir texto a partir de capturas de pantalla y responder preguntas de exámenes que contienen diagramas.[22]​\n",
      "Para obtener un mayor control sobre GPT-4, OpenAI introdujo el \"mensaje del sistema\", una directiva en lenguaje natural dada a GPT-4 para especificar su tono de voz y tarea. Por ejemplo, el mensaje del sistema puede instruir al modelo a \"ser un pirata shakesperiano\", en cuyo caso responderá en prosa rimada y shakesperiana, o pedirle que \"siempre escriba la salida de su respuesta en formato JSON\", en cuyo caso el modelo lo hará, agregando claves y valores según considere adecuado para que coincida con la estructura de su respuesta. En los ejemplos proporcionados por OpenAI, GPT-4 se negó a desviarse de su mensaje del sistema a pesar de las solicitudes del usuario durante la conversación.[22]​\n",
      "Cuando se le instruye, GPT-4 puede interactuar con \n"
     ]
    }
   ],
   "source": [
    "data = load_from_wikipedia('GPT-4', 'es')\n",
    "#print(data[0].page_content)"
   ]
  },
  {
   "cell_type": "code",
   "execution_count": null,
   "id": "a26d5a58",
   "metadata": {},
   "outputs": [],
   "source": []
  }
 ],
 "metadata": {
  "kernelspec": {
   "display_name": "Python 3 (ipykernel)",
   "language": "python",
   "name": "python3"
  },
  "language_info": {
   "codemirror_mode": {
    "name": "ipython",
    "version": 3
   },
   "file_extension": ".py",
   "mimetype": "text/x-python",
   "name": "python",
   "nbconvert_exporter": "python",
   "pygments_lexer": "ipython3",
   "version": "3.10.9"
  }
 },
 "nbformat": 4,
 "nbformat_minor": 5
}
