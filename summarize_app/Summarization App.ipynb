{
 "cells": [
  {
   "cell_type": "code",
   "execution_count": 3,
   "id": "54b147b9",
   "metadata": {},
   "outputs": [
    {
     "data": {
      "text/plain": [
       "True"
      ]
     },
     "execution_count": 3,
     "metadata": {},
     "output_type": "execute_result"
    }
   ],
   "source": [
    "import os\n",
    "from dotenv import load_dotenv, find_dotenv\n",
    "load_dotenv(find_dotenv(),override=True)"
   ]
  },
  {
   "cell_type": "markdown",
   "id": "97bbc258",
   "metadata": {},
   "source": [
    "### A) Basic Prompt"
   ]
  },
  {
   "cell_type": "code",
   "execution_count": 4,
   "id": "893acbf0",
   "metadata": {},
   "outputs": [],
   "source": [
    "from langchain.chat_models import ChatOpenAI\n",
    "from langchain.schema import(\n",
    "    AIMessage,\n",
    "    HumanMessage,\n",
    "    SystemMessage\n",
    ")"
   ]
  },
  {
   "cell_type": "code",
   "execution_count": 5,
   "id": "9e6ff2af",
   "metadata": {},
   "outputs": [],
   "source": [
    "text = \"¿Qué tal? ¿Cómo estás? Bienvenido a este canal de YouTube. Hoy vengo a hablarte de cómo eliminar la celulitis sin ningún truco, sin soluciones mágicas, entendiéndola desde un aspecto global para poder abordarla de manera práctica. Antes de nada, decirte que mi nombre es Marcos Podoque, soy especialista en nutrición y en un abordaje integral en la salud, así que si te gusta esta clase de contenido decirte que estoy subiendo dos vídeos a la semana harías muy bien de suscribirte aparte de que a mí me apoyas mucho. Bien, la celulitis, posiblemente una de las mayores preocupaciones en mujeres. Quiero darte hoy un enfoque global, general, de todo lo que influye en que aparezca, en todo lo que, sobre todo lo que puedes influir para eliminarla lo máximo posible y sobre todo que tengas herramientas prácticas para poder abordar este problema, que es muchas veces lo que más nos falta y lo más importante. Voy a empezar primero a enumerar todos los factores que van a ser importantes. Un buen sistema circulatorio, un buen sistema linfático, no tener una situación de desregulación hormonal, niveles de inflamación controlados, la alimentación, el entrenamiento de fuerza, nuestros niveles de grasa corporal y la capacidad de nuestro cuerpo de reparar y formar nuevo colágeno. Estos ocho puntos son los que vamos a empezar a abordar parte por parte. En primer lugar, vamos a hablar de que el sistema circulatorio, tener un buen sistema circulatorio es vital para poder eliminar la celulitis. Entonces, ¿qué es lo básico? A veces se nos olvida beber por lo menos 2,5 litros de agua al día y lo segundo que va a ser vital es andar todos los días entre 8.000 y 12.000 pasos. Esto va a ser vital para garantizar un buen funcionamiento de nuestro sistema circulatorio. También van a entrar en este lugar varias cosas más que vamos a ver más adelante, como puede ser el entrenamiento de fuerza, la exposición al frío y al calor. Estos aspectos también mejoran. En segundo lugar, tenemos el sistema linfático, que es, por así decirlo, unos circuitos donde van quedándose residuos, desechos, si no podemos eliminarlos de la manera adecuada. Y esto puede favorecer que se acumulen tóxicos en la piel, en nuestra circulación, y eso favorecer también a esta celulitis. ¿Qué es vital? Bueno, tener una buena capacidad de detoxificación, que esto quiere decir una buena piel, una piel sana. Aquí es vital tener la capacidad de sudar. Sudar con regularidad va a ser muy importante para nuestro sistema linfático y para la circulación. Y, por otro lado, tener una buena capacidad de detoxificación a través del hígado. Entonces, esto son muchas cosas. Por supuesto, una buena alimentación y aquí los micronutrientes del complejo B van a ser vitales y muy importantes. Entonces, para tener un buen sistema linfático, primero un buen sistema circulatorio y, lo que hemos hablado de una buena piel, ser capaces de sudar con regularidad es vital. En tercer lugar, tenemos la desregulación hormonal. Si tenemos una situación de desregulación hormonal, todo nuestro cuerpo va a estar patas arriba y va a funcionar muy mal. ¿Cuáles son las principales hormonas que se encuentran desreguladas y que, principalmente, vamos a intervenir en ellas con la alimentación? Pues tendríamos las hormonas del hambre y la saciedad, grelina y leptina, que la podemos regular con una buena alimentación, saciante, con buena cantidad de grasas y proteínas, densidad nutricional. Tendríamos la insulina, que es una de las hormonas más desreguladas hoy en día, por el sedentarismo, por la falta de entrenamiento de fuerza y, sobre todo, por una alimentación alta en azúcar, carbohidratos, principalmente carbohidratos refinados. Esto ya va a poner patas arriba todo el organismo. Pero luego tenemos el cortisol, la principal hormona del estrés. Cuando tenemos una situación de estrés crónico, estamos produciendo constantemente cortisol, esto ya va a provocar una desregulación hormonal de todo el organismo. Entonces, tener controlado todos estos aspectos es muy importante. También tener problemas a nivel de, por ejemplo, deficiencias de minerales como el sodio, va a poner en marcha diferentes circuitos que van a aumentar, por así decirlo, la tensión arterial, que no van a ser interesantes. Entonces, la desregulación hormonal es muy importante, sobre todo con unos buenos hábitos y con una correcta alimentación, que de eso tienes un montón de vídeos en mi canal. Te voy a dejar por aquí uno sobre alimentación antiinflamatoria y creo que es muy interesante para empezar. Y muy relacionado con esto, tenemos que tener unos niveles de inflamación adecuados. ¿Qué es lo que nos inflama principalmente? Bueno, el sedentarismo, ya hemos puesto mano en ello con el movimiento. En segundo lugar, tener una alimentación proinflamatoria, ya hemos hablado de la alimentación antiinflamatoria. En tercer lugar, una situación de estrés crónico, que eso al final va a dar lugar a una situación de inflamación crónica de bajo grado. Ya vamos a poner un poquito mano sobre ello. Y en cuarto lugar, pues podríamos tener la falta de exposición al sol, la falta de contacto con la naturaleza, con otras personas que queremos ese contacto suficiente. Entonces, tener los niveles de inflamación controlados va a ser vital en esta situación. Voy a abordar ya directamente la alimentación porque, bueno, la alimentación lo más importante es que no nos inflame de más, para no tener esta situación. Pero luego, ¿por qué es muy importante? Para aportar todos esos micronutrientes necesarios, sobre todo aminoácidos esenciales, grastas que son muy importantes para la piel, vitaminas y minerales para que el hígado pueda detoxificar, para que podamos formar nueva piel, etc. Entonces, la alimentación va a ser vital por todos estos puntos de vista. Luego, tener un buen porcentaje de grasa. Si al final vamos muy basados de peso, pues esto va a ser un factor que sin duda va a influir aquí. ¿Qué es lo que tenemos? ¿De qué va esto? ¿De comer menos? No. Ya hemos hablado muchas veces, no, de generar hábitos que nos hagan perder grasa. ¿Cómo qué? Pues una buena gestión del estrés, una buena alimentación, que nos regule hormonalmente, movimiento diario, un buen descanso, todo lo que normalmente ya sabemos. Y dentro de estos hábitos, para perder grasa, es vital, no por la energía que quemamos, sino por el efecto a nivel metabólico, el entrenamiento de fuerza. Entrenar la fuerza con regularidad va a ser lo más importante para eliminar la celulitis. Va a intervenir muchísimo en la circulación. El tener músculo en las zonas donde queremos eliminar la celulitis va a ser vital para que se pueda producir ese proceso. Y sobre todo va a ser un estímulo que nos regule hormonalmente, haga que todo lo que tenga que estar en el organismo funcione bien. Por ejemplo, el tema del sudar. Son todos factores en los que el entrenamiento de fuerza influye normalmente. Entonces, ganar masa muscular debe ser una de tus prioridades si quieres eliminar la celulitis. Y estos son realmente los puntos más importantes. No vamos a hablar, por supuesto, ni de suplementos mágicos, mucho menos de cremas. ¿Y qué quieres que te diga? Porque tener un masaje en la pierna va a mejorar tu celulitis. Ya te digo que si no haces todo lo anterior, no va a haber manera. El último punto, que no te he comentado del todo, pero sí es la capacidad de tu cuerpo de formar colágeno. ¿Aquí qué es lo más importante? Tener un buen aporte de aminoácidos, de proteína de origen animal. Si consumes todas las partes del animal, será más fácil que puedas fabricar ese colágeno. Si consumas también zonas como los cartílagos, las manitas, caldos de huesos, te va a ayudar a poder formar ese colágeno. Y sobre todo, no tener deficiencias de micronutrientes, como son el magnesio y la vitamina C, entre otros. Estos serían los más importantes. Entonces, si tú te enfocas, para revertir la celulitis, en moverte todos los días, entrenar la fuerza tres veces a la semana y sudar con regularidad, ya sea a través del entrenamiento de puerta cardiovascular o a través, por ejemplo, de la sauna, vas a tener mucho ganado, sobre todo si lo acompañas, de una correcta alimentación antiinflamatoria y aprendes a gestionar mejor el estrés. Espero que este vídeo te haya ayudado, a que tengas una visión general de todo este contexto, que no te vendan la moto, que no se aprovechen de tu dolor, de tus ganas de eliminar esta celulitis y te vendan cualquier tipo de crema, cualquier tipo de abordaje que sea de este estilo. Las bases son las bases, lo importante es lo importante. Si aparte de todo esto quieres hacer un poco de más de terapia, perfecto. Pero ya te digo que si haces eso sin hacerlo de más, lo único que estás realmente es procrastinando lo verdaderamente importante. Nos vemos, más vídeos cada semana. Dale me gusta si te ha aportado, suscríbete al canal si aún no lo estás y si quieres que este contenido sea interesante, compártelo con más personas. Muchas gracias por estar aquí, no te olvides que tienes una guía gratuita para mejorar tu salud en la descripción y nos vemos en el siguiente vídeo. Gracias.\"\n",
    "\n",
    "messages = [\n",
    "    SystemMessage(content='You are an expert copywriter with expertize in summarizing documents'),\n",
    "    HumanMessage(content=f'Please provide a short and concise summary of the following text: \\n TEXT: {text} in Spanish')\n",
    "]\n",
    "\n",
    "llm = ChatOpenAI(temperature=0, model_name='gpt-3.5-turbo')"
   ]
  },
  {
   "cell_type": "code",
   "execution_count": 29,
   "id": "8f59138e",
   "metadata": {},
   "outputs": [
    {
     "data": {
      "text/plain": [
       "2324"
      ]
     },
     "execution_count": 29,
     "metadata": {},
     "output_type": "execute_result"
    }
   ],
   "source": [
    "llm.get_num_tokens(text)"
   ]
  },
  {
   "cell_type": "code",
   "execution_count": 30,
   "id": "5ff3554d",
   "metadata": {},
   "outputs": [],
   "source": [
    "summary_output = llm(messages)\n",
    "#print(summary_output)"
   ]
  },
  {
   "cell_type": "code",
   "execution_count": 31,
   "id": "50b2e341",
   "metadata": {},
   "outputs": [
    {
     "name": "stdout",
     "output_type": "stream",
     "text": [
      "In this YouTube video, the speaker discusses how to eliminate cellulite without any tricks or magic solutions. They emphasize the importance of understanding cellulite from a global perspective and provide practical tools to address the issue. The speaker, a nutrition specialist, highlights eight key factors that influence the appearance of cellulite, including a good circulatory and lymphatic system, balanced hormone levels, controlled inflammation, proper nutrition, strength training, body fat levels, and collagen formation. They delve into each factor and provide tips on how to improve them. The speaker emphasizes the importance of a healthy lifestyle, including regular exercise, a balanced diet, stress management, and adequate rest. They also debunk the effectiveness of creams and supplements in treating cellulite. The video concludes by emphasizing the importance of focusing on the fundamental aspects discussed rather than seeking quick fixes.\n"
     ]
    }
   ],
   "source": [
    "print(summary_output.content)"
   ]
  },
  {
   "cell_type": "markdown",
   "id": "ed7c4216",
   "metadata": {},
   "source": [
    "### Prompt Templates"
   ]
  },
  {
   "cell_type": "code",
   "execution_count": 7,
   "id": "9106dbe7",
   "metadata": {},
   "outputs": [],
   "source": [
    "from langchain import PromptTemplate\n",
    "from langchain.chains import LLMChain\n",
    "\n",
    "template = '''\n",
    "Write a concise and short summary of the following text:\n",
    "TEXT: `{text}``\n",
    "Translate the summary to {language}.\n",
    "'''\n",
    "\n",
    "prompt = PromptTemplate(\n",
    "    input_variables=['text', 'language'],\n",
    "    template=template\n",
    ")"
   ]
  },
  {
   "cell_type": "code",
   "execution_count": 8,
   "id": "14606218",
   "metadata": {},
   "outputs": [
    {
     "data": {
      "text/plain": [
       "2346"
      ]
     },
     "execution_count": 8,
     "metadata": {},
     "output_type": "execute_result"
    }
   ],
   "source": [
    "llm.get_num_tokens(prompt.format(text=text, language='English'))"
   ]
  },
  {
   "cell_type": "code",
   "execution_count": 11,
   "id": "35d8a159",
   "metadata": {},
   "outputs": [],
   "source": [
    "chain = LLMChain(llm=llm, prompt=prompt)\n",
    "summary = chain.run({'text':text, 'language':'spanish'})"
   ]
  },
  {
   "cell_type": "code",
   "execution_count": 12,
   "id": "ecaa2223",
   "metadata": {},
   "outputs": [
    {
     "name": "stdout",
     "output_type": "stream",
     "text": [
      "El texto es un video de YouTube en el que el autor, Marcos Podoque, habla sobre cómo eliminar la celulitis de manera práctica y sin soluciones mágicas. Enumera ocho factores importantes que influyen en la aparición de la celulitis, como tener un buen sistema circulatorio y linfático, una regulación hormonal adecuada, niveles controlados de inflamación, una alimentación saludable, entrenamiento de fuerza y un buen porcentaje de grasa corporal. También menciona la importancia de la capacidad del cuerpo para formar colágeno. El autor enfatiza que no hay soluciones rápidas o cremas mágicas para eliminar la celulitis, y que lo más importante es mantener hábitos saludables como moverse diariamente, entrenar la fuerza, sudar regularmente, tener una alimentación antiinflamatoria y gestionar el estrés. El autor también menciona que no se deben creer en productos o tratamientos que prometen eliminar la celulitis de manera fácil.\n"
     ]
    }
   ],
   "source": [
    "print(summary)"
   ]
  },
  {
   "cell_type": "markdown",
   "id": "264623b9",
   "metadata": {},
   "source": [
    "### Summarizing using StuffDocumentChain"
   ]
  },
  {
   "cell_type": "code",
   "execution_count": 13,
   "id": "df41edb4",
   "metadata": {},
   "outputs": [],
   "source": [
    "from langchain import PromptTemplate\n",
    "from langchain.chat_models import ChatOpenAI\n",
    "from langchain.chains.summarize import load_summarize_chain\n",
    "from langchain.docstore.document import Document\n",
    "\n"
   ]
  },
  {
   "cell_type": "code",
   "execution_count": 26,
   "id": "1bff7326",
   "metadata": {},
   "outputs": [
    {
     "ename": "NameError",
     "evalue": "name 'page_content' is not defined",
     "output_type": "error",
     "traceback": [
      "\u001b[0;31m---------------------------------------------------------------------------\u001b[0m",
      "\u001b[0;31mNameError\u001b[0m                                 Traceback (most recent call last)",
      "Cell \u001b[0;32mIn[26], line 6\u001b[0m\n\u001b[1;32m      3\u001b[0m \u001b[38;5;66;03m#text\u001b[39;00m\n\u001b[1;32m      5\u001b[0m docs \u001b[38;5;241m=\u001b[39m [Document(page_content\u001b[38;5;241m=\u001b[39mtext)]\n\u001b[0;32m----> 6\u001b[0m \u001b[38;5;28mprint\u001b[39m(docs[\u001b[43mpage_content\u001b[49m])\n\u001b[1;32m      7\u001b[0m llm \u001b[38;5;241m=\u001b[39m ChatOpenAI(temperature\u001b[38;5;241m=\u001b[39m\u001b[38;5;241m0\u001b[39m, model_name\u001b[38;5;241m=\u001b[39m\u001b[38;5;124m'\u001b[39m\u001b[38;5;124mgpt-3.5-turbo\u001b[39m\u001b[38;5;124m'\u001b[39m)\n",
      "\u001b[0;31mNameError\u001b[0m: name 'page_content' is not defined"
     ]
    }
   ],
   "source": [
    "with open('flexi.txt', encoding='utf-8') as f:\n",
    "    text = f.read()\n",
    "#text\n",
    "\n",
    "docs = [Document(page_content=text)]\n",
    "llm = ChatOpenAI(temperature=0, model_name='gpt-3.5-turbo')\n"
   ]
  },
  {
   "cell_type": "code",
   "execution_count": 21,
   "id": "05100e24",
   "metadata": {},
   "outputs": [],
   "source": [
    "template = '''\n",
    "Write a concise and short summary of the following text:\n",
    "TEXT: `{text}`\n",
    "Translate the summary to {language}.\n",
    "'''\n",
    "prompt = PromptTemplate(\n",
    "    input_variables=['text'],\n",
    "    template=template\n",
    ")"
   ]
  },
  {
   "cell_type": "code",
   "execution_count": 28,
   "id": "8c852aa0",
   "metadata": {},
   "outputs": [
    {
     "ename": "ValueError",
     "evalue": "A single string input was passed in, but this chain expects multiple inputs ({'language', 'input_documents'}). When a chain expects multiple inputs, please call it by passing in a dictionary, eg `chain({'foo': 1, 'bar': 2})`",
     "output_type": "error",
     "traceback": [
      "\u001b[0;31m---------------------------------------------------------------------------\u001b[0m",
      "\u001b[0;31mValueError\u001b[0m                                Traceback (most recent call last)",
      "Cell \u001b[0;32mIn[28], line 8\u001b[0m\n\u001b[1;32m      1\u001b[0m chain \u001b[38;5;241m=\u001b[39m load_summarize_chain(\n\u001b[1;32m      2\u001b[0m     llm,\n\u001b[1;32m      3\u001b[0m     chain_type\u001b[38;5;241m=\u001b[39m\u001b[38;5;124m'\u001b[39m\u001b[38;5;124mstuff\u001b[39m\u001b[38;5;124m'\u001b[39m,\n\u001b[1;32m      4\u001b[0m     prompt\u001b[38;5;241m=\u001b[39mprompt,\n\u001b[1;32m      5\u001b[0m     verbose\u001b[38;5;241m=\u001b[39m\u001b[38;5;28;01mFalse\u001b[39;00m\n\u001b[1;32m      6\u001b[0m )\n\u001b[0;32m----> 8\u001b[0m output_summary \u001b[38;5;241m=\u001b[39m \u001b[43mchain\u001b[49m\u001b[38;5;241;43m.\u001b[39;49m\u001b[43mrun\u001b[49m\u001b[43m(\u001b[49m\u001b[43mdocs\u001b[49m\u001b[43m)\u001b[49m\n",
      "File \u001b[0;32m~/anaconda3/lib/python3.10/site-packages/langchain/chains/base.py:505\u001b[0m, in \u001b[0;36mChain.run\u001b[0;34m(self, callbacks, tags, metadata, *args, **kwargs)\u001b[0m\n\u001b[1;32m    503\u001b[0m     \u001b[38;5;28;01mif\u001b[39;00m \u001b[38;5;28mlen\u001b[39m(args) \u001b[38;5;241m!=\u001b[39m \u001b[38;5;241m1\u001b[39m:\n\u001b[1;32m    504\u001b[0m         \u001b[38;5;28;01mraise\u001b[39;00m \u001b[38;5;167;01mValueError\u001b[39;00m(\u001b[38;5;124m\"\u001b[39m\u001b[38;5;124m`run` supports only one positional argument.\u001b[39m\u001b[38;5;124m\"\u001b[39m)\n\u001b[0;32m--> 505\u001b[0m     \u001b[38;5;28;01mreturn\u001b[39;00m \u001b[38;5;28;43mself\u001b[39;49m\u001b[43m(\u001b[49m\u001b[43margs\u001b[49m\u001b[43m[\u001b[49m\u001b[38;5;241;43m0\u001b[39;49m\u001b[43m]\u001b[49m\u001b[43m,\u001b[49m\u001b[43m \u001b[49m\u001b[43mcallbacks\u001b[49m\u001b[38;5;241;43m=\u001b[39;49m\u001b[43mcallbacks\u001b[49m\u001b[43m,\u001b[49m\u001b[43m \u001b[49m\u001b[43mtags\u001b[49m\u001b[38;5;241;43m=\u001b[39;49m\u001b[43mtags\u001b[49m\u001b[43m,\u001b[49m\u001b[43m \u001b[49m\u001b[43mmetadata\u001b[49m\u001b[38;5;241;43m=\u001b[39;49m\u001b[43mmetadata\u001b[49m\u001b[43m)\u001b[49m[\n\u001b[1;32m    506\u001b[0m         _output_key\n\u001b[1;32m    507\u001b[0m     ]\n\u001b[1;32m    509\u001b[0m \u001b[38;5;28;01mif\u001b[39;00m kwargs \u001b[38;5;129;01mand\u001b[39;00m \u001b[38;5;129;01mnot\u001b[39;00m args:\n\u001b[1;32m    510\u001b[0m     \u001b[38;5;28;01mreturn\u001b[39;00m \u001b[38;5;28mself\u001b[39m(kwargs, callbacks\u001b[38;5;241m=\u001b[39mcallbacks, tags\u001b[38;5;241m=\u001b[39mtags, metadata\u001b[38;5;241m=\u001b[39mmetadata)[\n\u001b[1;32m    511\u001b[0m         _output_key\n\u001b[1;32m    512\u001b[0m     ]\n",
      "File \u001b[0;32m~/anaconda3/lib/python3.10/site-packages/langchain/chains/base.py:286\u001b[0m, in \u001b[0;36mChain.__call__\u001b[0;34m(self, inputs, return_only_outputs, callbacks, tags, metadata, run_name, include_run_info)\u001b[0m\n\u001b[1;32m    250\u001b[0m \u001b[38;5;28;01mdef\u001b[39;00m \u001b[38;5;21m__call__\u001b[39m(\n\u001b[1;32m    251\u001b[0m     \u001b[38;5;28mself\u001b[39m,\n\u001b[1;32m    252\u001b[0m     inputs: Union[Dict[\u001b[38;5;28mstr\u001b[39m, Any], Any],\n\u001b[0;32m   (...)\u001b[0m\n\u001b[1;32m    259\u001b[0m     include_run_info: \u001b[38;5;28mbool\u001b[39m \u001b[38;5;241m=\u001b[39m \u001b[38;5;28;01mFalse\u001b[39;00m,\n\u001b[1;32m    260\u001b[0m ) \u001b[38;5;241m-\u001b[39m\u001b[38;5;241m>\u001b[39m Dict[\u001b[38;5;28mstr\u001b[39m, Any]:\n\u001b[1;32m    261\u001b[0m \u001b[38;5;250m    \u001b[39m\u001b[38;5;124;03m\"\"\"Execute the chain.\u001b[39;00m\n\u001b[1;32m    262\u001b[0m \n\u001b[1;32m    263\u001b[0m \u001b[38;5;124;03m    Args:\u001b[39;00m\n\u001b[0;32m   (...)\u001b[0m\n\u001b[1;32m    284\u001b[0m \u001b[38;5;124;03m            `Chain.output_keys`.\u001b[39;00m\n\u001b[1;32m    285\u001b[0m \u001b[38;5;124;03m    \"\"\"\u001b[39;00m\n\u001b[0;32m--> 286\u001b[0m     inputs \u001b[38;5;241m=\u001b[39m \u001b[38;5;28;43mself\u001b[39;49m\u001b[38;5;241;43m.\u001b[39;49m\u001b[43mprep_inputs\u001b[49m\u001b[43m(\u001b[49m\u001b[43minputs\u001b[49m\u001b[43m)\u001b[49m\n\u001b[1;32m    287\u001b[0m     callback_manager \u001b[38;5;241m=\u001b[39m CallbackManager\u001b[38;5;241m.\u001b[39mconfigure(\n\u001b[1;32m    288\u001b[0m         callbacks,\n\u001b[1;32m    289\u001b[0m         \u001b[38;5;28mself\u001b[39m\u001b[38;5;241m.\u001b[39mcallbacks,\n\u001b[0;32m   (...)\u001b[0m\n\u001b[1;32m    294\u001b[0m         \u001b[38;5;28mself\u001b[39m\u001b[38;5;241m.\u001b[39mmetadata,\n\u001b[1;32m    295\u001b[0m     )\n\u001b[1;32m    296\u001b[0m     new_arg_supported \u001b[38;5;241m=\u001b[39m inspect\u001b[38;5;241m.\u001b[39msignature(\u001b[38;5;28mself\u001b[39m\u001b[38;5;241m.\u001b[39m_call)\u001b[38;5;241m.\u001b[39mparameters\u001b[38;5;241m.\u001b[39mget(\u001b[38;5;124m\"\u001b[39m\u001b[38;5;124mrun_manager\u001b[39m\u001b[38;5;124m\"\u001b[39m)\n",
      "File \u001b[0;32m~/anaconda3/lib/python3.10/site-packages/langchain/chains/base.py:433\u001b[0m, in \u001b[0;36mChain.prep_inputs\u001b[0;34m(self, inputs)\u001b[0m\n\u001b[1;32m    431\u001b[0m         _input_keys \u001b[38;5;241m=\u001b[39m _input_keys\u001b[38;5;241m.\u001b[39mdifference(\u001b[38;5;28mself\u001b[39m\u001b[38;5;241m.\u001b[39mmemory\u001b[38;5;241m.\u001b[39mmemory_variables)\n\u001b[1;32m    432\u001b[0m     \u001b[38;5;28;01mif\u001b[39;00m \u001b[38;5;28mlen\u001b[39m(_input_keys) \u001b[38;5;241m!=\u001b[39m \u001b[38;5;241m1\u001b[39m:\n\u001b[0;32m--> 433\u001b[0m         \u001b[38;5;28;01mraise\u001b[39;00m \u001b[38;5;167;01mValueError\u001b[39;00m(\n\u001b[1;32m    434\u001b[0m             \u001b[38;5;124mf\u001b[39m\u001b[38;5;124m\"\u001b[39m\u001b[38;5;124mA single string input was passed in, but this chain expects \u001b[39m\u001b[38;5;124m\"\u001b[39m\n\u001b[1;32m    435\u001b[0m             \u001b[38;5;124mf\u001b[39m\u001b[38;5;124m\"\u001b[39m\u001b[38;5;124mmultiple inputs (\u001b[39m\u001b[38;5;132;01m{\u001b[39;00m_input_keys\u001b[38;5;132;01m}\u001b[39;00m\u001b[38;5;124m). When a chain expects \u001b[39m\u001b[38;5;124m\"\u001b[39m\n\u001b[1;32m    436\u001b[0m             \u001b[38;5;124mf\u001b[39m\u001b[38;5;124m\"\u001b[39m\u001b[38;5;124mmultiple inputs, please call it by passing in a dictionary, \u001b[39m\u001b[38;5;124m\"\u001b[39m\n\u001b[1;32m    437\u001b[0m             \u001b[38;5;124m\"\u001b[39m\u001b[38;5;124meg `chain(\u001b[39m\u001b[38;5;124m{\u001b[39m\u001b[38;5;124m'\u001b[39m\u001b[38;5;124mfoo\u001b[39m\u001b[38;5;124m'\u001b[39m\u001b[38;5;124m: 1, \u001b[39m\u001b[38;5;124m'\u001b[39m\u001b[38;5;124mbar\u001b[39m\u001b[38;5;124m'\u001b[39m\u001b[38;5;124m: 2})`\u001b[39m\u001b[38;5;124m\"\u001b[39m\n\u001b[1;32m    438\u001b[0m         )\n\u001b[1;32m    439\u001b[0m     inputs \u001b[38;5;241m=\u001b[39m {\u001b[38;5;28mlist\u001b[39m(_input_keys)[\u001b[38;5;241m0\u001b[39m]: inputs}\n\u001b[1;32m    440\u001b[0m \u001b[38;5;28;01mif\u001b[39;00m \u001b[38;5;28mself\u001b[39m\u001b[38;5;241m.\u001b[39mmemory \u001b[38;5;129;01mis\u001b[39;00m \u001b[38;5;129;01mnot\u001b[39;00m \u001b[38;5;28;01mNone\u001b[39;00m:\n",
      "\u001b[0;31mValueError\u001b[0m: A single string input was passed in, but this chain expects multiple inputs ({'language', 'input_documents'}). When a chain expects multiple inputs, please call it by passing in a dictionary, eg `chain({'foo': 1, 'bar': 2})`"
     ]
    }
   ],
   "source": [
    "chain = load_summarize_chain(\n",
    "    llm,\n",
    "    chain_type='stuff',\n",
    "    prompt=prompt,\n",
    "    verbose=False\n",
    ")\n",
    "\n",
    "output_summary = chain.run(docs)\n",
    "#print(output_summary)"
   ]
  },
  {
   "cell_type": "code",
   "execution_count": null,
   "id": "90c59079",
   "metadata": {},
   "outputs": [],
   "source": []
  },
  {
   "cell_type": "code",
   "execution_count": null,
   "id": "56ae1b1a",
   "metadata": {},
   "outputs": [],
   "source": []
  }
 ],
 "metadata": {
  "kernelspec": {
   "display_name": "Python 3 (ipykernel)",
   "language": "python",
   "name": "python3"
  },
  "language_info": {
   "codemirror_mode": {
    "name": "ipython",
    "version": 3
   },
   "file_extension": ".py",
   "mimetype": "text/x-python",
   "name": "python",
   "nbconvert_exporter": "python",
   "pygments_lexer": "ipython3",
   "version": "3.10.9"
  }
 },
 "nbformat": 4,
 "nbformat_minor": 5
}
