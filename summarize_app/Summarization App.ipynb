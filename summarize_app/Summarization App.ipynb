{
 "cells": [
  {
   "cell_type": "code",
   "execution_count": 1,
   "id": "54b147b9",
   "metadata": {},
   "outputs": [
    {
     "data": {
      "text/plain": [
       "True"
      ]
     },
     "execution_count": 1,
     "metadata": {},
     "output_type": "execute_result"
    }
   ],
   "source": [
    "import os\n",
    "from dotenv import load_dotenv, find_dotenv\n",
    "load_dotenv(find_dotenv(),override=True)"
   ]
  },
  {
   "cell_type": "markdown",
   "id": "97bbc258",
   "metadata": {},
   "source": [
    "## Basic Prompt"
   ]
  },
  {
   "cell_type": "code",
   "execution_count": 2,
   "id": "893acbf0",
   "metadata": {},
   "outputs": [],
   "source": [
    "from langchain.chat_models import ChatOpenAI\n",
    "from langchain.schema import(\n",
    "    AIMessage,\n",
    "    HumanMessage,\n",
    "    SystemMessage\n",
    ")"
   ]
  },
  {
   "cell_type": "code",
   "execution_count": 3,
   "id": "9e6ff2af",
   "metadata": {},
   "outputs": [],
   "source": [
    "text = \"¿Qué tal? ¿Cómo estás? Bienvenido a este canal de YouTube. Hoy vengo a hablarte de cómo eliminar la celulitis sin ningún truco, sin soluciones mágicas, entendiéndola desde un aspecto global para poder abordarla de manera práctica. Antes de nada, decirte que mi nombre es Marcos Podoque, soy especialista en nutrición y en un abordaje integral en la salud, así que si te gusta esta clase de contenido decirte que estoy subiendo dos vídeos a la semana harías muy bien de suscribirte aparte de que a mí me apoyas mucho. Bien, la celulitis, posiblemente una de las mayores preocupaciones en mujeres. Quiero darte hoy un enfoque global, general, de todo lo que influye en que aparezca, en todo lo que, sobre todo lo que puedes influir para eliminarla lo máximo posible y sobre todo que tengas herramientas prácticas para poder abordar este problema, que es muchas veces lo que más nos falta y lo más importante. Voy a empezar primero a enumerar todos los factores que van a ser importantes. Un buen sistema circulatorio, un buen sistema linfático, no tener una situación de desregulación hormonal, niveles de inflamación controlados, la alimentación, el entrenamiento de fuerza, nuestros niveles de grasa corporal y la capacidad de nuestro cuerpo de reparar y formar nuevo colágeno. Estos ocho puntos son los que vamos a empezar a abordar parte por parte. En primer lugar, vamos a hablar de que el sistema circulatorio, tener un buen sistema circulatorio es vital para poder eliminar la celulitis. Entonces, ¿qué es lo básico? A veces se nos olvida beber por lo menos 2,5 litros de agua al día y lo segundo que va a ser vital es andar todos los días entre 8.000 y 12.000 pasos. Esto va a ser vital para garantizar un buen funcionamiento de nuestro sistema circulatorio. También van a entrar en este lugar varias cosas más que vamos a ver más adelante, como puede ser el entrenamiento de fuerza, la exposición al frío y al calor. Estos aspectos también mejoran. En segundo lugar, tenemos el sistema linfático, que es, por así decirlo, unos circuitos donde van quedándose residuos, desechos, si no podemos eliminarlos de la manera adecuada. Y esto puede favorecer que se acumulen tóxicos en la piel, en nuestra circulación, y eso favorecer también a esta celulitis. ¿Qué es vital? Bueno, tener una buena capacidad de detoxificación, que esto quiere decir una buena piel, una piel sana. Aquí es vital tener la capacidad de sudar. Sudar con regularidad va a ser muy importante para nuestro sistema linfático y para la circulación. Y, por otro lado, tener una buena capacidad de detoxificación a través del hígado. Entonces, esto son muchas cosas. Por supuesto, una buena alimentación y aquí los micronutrientes del complejo B van a ser vitales y muy importantes. Entonces, para tener un buen sistema linfático, primero un buen sistema circulatorio y, lo que hemos hablado de una buena piel, ser capaces de sudar con regularidad es vital. En tercer lugar, tenemos la desregulación hormonal. Si tenemos una situación de desregulación hormonal, todo nuestro cuerpo va a estar patas arriba y va a funcionar muy mal. ¿Cuáles son las principales hormonas que se encuentran desreguladas y que, principalmente, vamos a intervenir en ellas con la alimentación? Pues tendríamos las hormonas del hambre y la saciedad, grelina y leptina, que la podemos regular con una buena alimentación, saciante, con buena cantidad de grasas y proteínas, densidad nutricional. Tendríamos la insulina, que es una de las hormonas más desreguladas hoy en día, por el sedentarismo, por la falta de entrenamiento de fuerza y, sobre todo, por una alimentación alta en azúcar, carbohidratos, principalmente carbohidratos refinados. Esto ya va a poner patas arriba todo el organismo. Pero luego tenemos el cortisol, la principal hormona del estrés. Cuando tenemos una situación de estrés crónico, estamos produciendo constantemente cortisol, esto ya va a provocar una desregulación hormonal de todo el organismo. Entonces, tener controlado todos estos aspectos es muy importante. También tener problemas a nivel de, por ejemplo, deficiencias de minerales como el sodio, va a poner en marcha diferentes circuitos que van a aumentar, por así decirlo, la tensión arterial, que no van a ser interesantes. Entonces, la desregulación hormonal es muy importante, sobre todo con unos buenos hábitos y con una correcta alimentación, que de eso tienes un montón de vídeos en mi canal. Te voy a dejar por aquí uno sobre alimentación antiinflamatoria y creo que es muy interesante para empezar. Y muy relacionado con esto, tenemos que tener unos niveles de inflamación adecuados. ¿Qué es lo que nos inflama principalmente? Bueno, el sedentarismo, ya hemos puesto mano en ello con el movimiento. En segundo lugar, tener una alimentación proinflamatoria, ya hemos hablado de la alimentación antiinflamatoria. En tercer lugar, una situación de estrés crónico, que eso al final va a dar lugar a una situación de inflamación crónica de bajo grado. Ya vamos a poner un poquito mano sobre ello. Y en cuarto lugar, pues podríamos tener la falta de exposición al sol, la falta de contacto con la naturaleza, con otras personas que queremos ese contacto suficiente. Entonces, tener los niveles de inflamación controlados va a ser vital en esta situación. Voy a abordar ya directamente la alimentación porque, bueno, la alimentación lo más importante es que no nos inflame de más, para no tener esta situación. Pero luego, ¿por qué es muy importante? Para aportar todos esos micronutrientes necesarios, sobre todo aminoácidos esenciales, grastas que son muy importantes para la piel, vitaminas y minerales para que el hígado pueda detoxificar, para que podamos formar nueva piel, etc. Entonces, la alimentación va a ser vital por todos estos puntos de vista. Luego, tener un buen porcentaje de grasa. Si al final vamos muy basados de peso, pues esto va a ser un factor que sin duda va a influir aquí. ¿Qué es lo que tenemos? ¿De qué va esto? ¿De comer menos? No. Ya hemos hablado muchas veces, no, de generar hábitos que nos hagan perder grasa. ¿Cómo qué? Pues una buena gestión del estrés, una buena alimentación, que nos regule hormonalmente, movimiento diario, un buen descanso, todo lo que normalmente ya sabemos. Y dentro de estos hábitos, para perder grasa, es vital, no por la energía que quemamos, sino por el efecto a nivel metabólico, el entrenamiento de fuerza. Entrenar la fuerza con regularidad va a ser lo más importante para eliminar la celulitis. Va a intervenir muchísimo en la circulación. El tener músculo en las zonas donde queremos eliminar la celulitis va a ser vital para que se pueda producir ese proceso. Y sobre todo va a ser un estímulo que nos regule hormonalmente, haga que todo lo que tenga que estar en el organismo funcione bien. Por ejemplo, el tema del sudar. Son todos factores en los que el entrenamiento de fuerza influye normalmente. Entonces, ganar masa muscular debe ser una de tus prioridades si quieres eliminar la celulitis. Y estos son realmente los puntos más importantes. No vamos a hablar, por supuesto, ni de suplementos mágicos, mucho menos de cremas. ¿Y qué quieres que te diga? Porque tener un masaje en la pierna va a mejorar tu celulitis. Ya te digo que si no haces todo lo anterior, no va a haber manera. El último punto, que no te he comentado del todo, pero sí es la capacidad de tu cuerpo de formar colágeno. ¿Aquí qué es lo más importante? Tener un buen aporte de aminoácidos, de proteína de origen animal. Si consumes todas las partes del animal, será más fácil que puedas fabricar ese colágeno. Si consumas también zonas como los cartílagos, las manitas, caldos de huesos, te va a ayudar a poder formar ese colágeno. Y sobre todo, no tener deficiencias de micronutrientes, como son el magnesio y la vitamina C, entre otros. Estos serían los más importantes. Entonces, si tú te enfocas, para revertir la celulitis, en moverte todos los días, entrenar la fuerza tres veces a la semana y sudar con regularidad, ya sea a través del entrenamiento de puerta cardiovascular o a través, por ejemplo, de la sauna, vas a tener mucho ganado, sobre todo si lo acompañas, de una correcta alimentación antiinflamatoria y aprendes a gestionar mejor el estrés. Espero que este vídeo te haya ayudado, a que tengas una visión general de todo este contexto, que no te vendan la moto, que no se aprovechen de tu dolor, de tus ganas de eliminar esta celulitis y te vendan cualquier tipo de crema, cualquier tipo de abordaje que sea de este estilo. Las bases son las bases, lo importante es lo importante. Si aparte de todo esto quieres hacer un poco de más de terapia, perfecto. Pero ya te digo que si haces eso sin hacerlo de más, lo único que estás realmente es procrastinando lo verdaderamente importante. Nos vemos, más vídeos cada semana. Dale me gusta si te ha aportado, suscríbete al canal si aún no lo estás y si quieres que este contenido sea interesante, compártelo con más personas. Muchas gracias por estar aquí, no te olvides que tienes una guía gratuita para mejorar tu salud en la descripción y nos vemos en el siguiente vídeo. Gracias.\"\n",
    "\n",
    "messages = [\n",
    "    SystemMessage(content='You are an expert copywriter with expertize in summarizing documents'),\n",
    "    HumanMessage(content=f'Please provide a short and concise summary of the following text: \\n TEXT: {text} in Spanish')\n",
    "]\n",
    "\n",
    "llm = ChatOpenAI(temperature=0, model_name='gpt-3.5-turbo')"
   ]
  },
  {
   "cell_type": "code",
   "execution_count": 4,
   "id": "8f59138e",
   "metadata": {},
   "outputs": [
    {
     "data": {
      "text/plain": [
       "2324"
      ]
     },
     "execution_count": 4,
     "metadata": {},
     "output_type": "execute_result"
    }
   ],
   "source": [
    "llm.get_num_tokens(text)"
   ]
  },
  {
   "cell_type": "code",
   "execution_count": 5,
   "id": "5ff3554d",
   "metadata": {},
   "outputs": [],
   "source": [
    "summary_output = llm(messages)\n",
    "#print(summary_output)"
   ]
  },
  {
   "cell_type": "code",
   "execution_count": 6,
   "id": "50b2e341",
   "metadata": {},
   "outputs": [
    {
     "name": "stdout",
     "output_type": "stream",
     "text": [
      "In this YouTube video, the speaker discusses how to eliminate cellulite without any tricks or magic solutions. They emphasize the importance of understanding cellulite from a global perspective and provide practical tools to address the issue. The speaker, a nutrition specialist, highlights eight key factors that influence the appearance of cellulite, including a good circulatory and lymphatic system, balanced hormone levels, controlled inflammation, proper nutrition, strength training, body fat levels, and collagen formation. They explain the significance of each factor and provide tips on how to improve them. The speaker also emphasizes the importance of a healthy diet, managing stress, and regular exercise, particularly strength training, to eliminate cellulite. They discourage relying on creams or supplements and stress the importance of focusing on the fundamental factors mentioned. The video concludes by encouraging viewers to like, subscribe, and share the content.\n"
     ]
    }
   ],
   "source": [
    "print(summary_output.content)"
   ]
  },
  {
   "cell_type": "markdown",
   "id": "8ce72d24",
   "metadata": {},
   "source": [
    "## Prompt Templates"
   ]
  },
  {
   "cell_type": "code",
   "execution_count": 7,
   "id": "35969cdb",
   "metadata": {},
   "outputs": [],
   "source": [
    "from langchain import PromptTemplate\n",
    "from langchain.chains import LLMChain\n",
    "\n",
    "template = '''\n",
    "Write a concise and short summary of the following text:\n",
    "TEXT: `{text}``\n",
    "Translate the summary to {language}.\n",
    "'''\n",
    "\n",
    "prompt = PromptTemplate(\n",
    "    input_variables=['text', 'language'],\n",
    "    template=template\n",
    ")"
   ]
  },
  {
   "cell_type": "code",
   "execution_count": 8,
   "id": "5ccb8e30",
   "metadata": {},
   "outputs": [
    {
     "data": {
      "text/plain": [
       "2346"
      ]
     },
     "execution_count": 8,
     "metadata": {},
     "output_type": "execute_result"
    }
   ],
   "source": [
    "llm.get_num_tokens(prompt.format(text=text, language='English'))"
   ]
  },
  {
   "cell_type": "code",
   "execution_count": 9,
   "id": "22feb272",
   "metadata": {},
   "outputs": [],
   "source": [
    "chain = LLMChain(llm=llm, prompt=prompt)\n",
    "summary = chain.run({'text':text, 'language':'spanish'})"
   ]
  },
  {
   "cell_type": "code",
   "execution_count": 10,
   "id": "f63aacfa",
   "metadata": {},
   "outputs": [
    {
     "name": "stdout",
     "output_type": "stream",
     "text": [
      "El texto es un video de YouTube en el que el autor, Marcos Podoque, habla sobre cómo eliminar la celulitis de manera práctica y sin soluciones mágicas. Enumera ocho factores importantes que influyen en la aparición de la celulitis, como tener un buen sistema circulatorio y linfático, una regulación hormonal adecuada, niveles controlados de inflamación, una alimentación saludable, entrenamiento de fuerza y un buen porcentaje de grasa corporal. También menciona la importancia de la capacidad del cuerpo para formar colágeno. El autor enfatiza que no hay soluciones rápidas o cremas mágicas para eliminar la celulitis, y que lo más importante es mantener hábitos saludables como hacer ejercicio regularmente, tener una alimentación adecuada y gestionar el estrés.\n"
     ]
    }
   ],
   "source": [
    "print(summary)"
   ]
  },
  {
   "cell_type": "markdown",
   "id": "f9a039f2",
   "metadata": {},
   "source": [
    "## Summarizing using StuffDocumentChain"
   ]
  },
  {
   "cell_type": "code",
   "execution_count": 11,
   "id": "f3efdcb5",
   "metadata": {},
   "outputs": [],
   "source": [
    "from langchain import PromptTemplate\n",
    "from langchain.chat_models import ChatOpenAI\n",
    "from langchain.chains.summarize import load_summarize_chain\n",
    "from langchain.docstore.document import Document"
   ]
  },
  {
   "cell_type": "code",
   "execution_count": 12,
   "id": "2e7a69d4",
   "metadata": {},
   "outputs": [],
   "source": [
    "with open('flexi.txt', encoding='utf-8') as f:\n",
    "    text = f.read()\n",
    "#text\n",
    "\n",
    "docs = [Document(page_content=text)]\n",
    "llm = ChatOpenAI(temperature=0, model_name='gpt-3.5-turbo')\n"
   ]
  },
  {
   "cell_type": "code",
   "execution_count": 17,
   "id": "3b1779fc",
   "metadata": {},
   "outputs": [],
   "source": [
    "template = '''\n",
    "Write a concise and short summary of the following text:\n",
    "TEXT: `{text}`\n",
    "Translate the summary to {language}.\n",
    "'''\n",
    "prompt = PromptTemplate(\n",
    "    input_variables=['text'],\n",
    "    template=template\n",
    ")"
   ]
  },
  {
   "cell_type": "code",
   "execution_count": 18,
   "id": "9c58f3b6",
   "metadata": {},
   "outputs": [],
   "source": [
    "chain = load_summarize_chain(\n",
    "    llm,\n",
    "    chain_type='stuff',\n",
    "    prompt=prompt,\n",
    "    verbose=False\n",
    ")\n",
    "\n",
    "#output_summary = chain.run(docs)\n",
    "#print(output_summary)"
   ]
  },
  {
   "cell_type": "markdown",
   "id": "a9b28fe3",
   "metadata": {},
   "source": [
    "## Summarizing Large Documents Using map_reduce"
   ]
  },
  {
   "cell_type": "code",
   "execution_count": 20,
   "id": "19a9f6ab",
   "metadata": {},
   "outputs": [],
   "source": [
    "from langchain import PromptTemplate\n",
    "from langchain.chat_models import ChatOpenAI\n",
    "from langchain.chains.summarize import load_summarize_chain\n",
    "from langchain.text_splitter import RecursiveCharacterTextSplitter"
   ]
  },
  {
   "cell_type": "code",
   "execution_count": 21,
   "id": "ef7fc6c8",
   "metadata": {},
   "outputs": [
    {
     "data": {
      "text/plain": [
       "5603"
      ]
     },
     "execution_count": 21,
     "metadata": {},
     "output_type": "execute_result"
    }
   ],
   "source": [
    "with open('flexi.txt', encoding='utf-8') as f:\n",
    "    text = f.read()\n",
    "    \n",
    "llm = ChatOpenAI(temperature=0, model_name='gpt-3.5-turbo')\n",
    "llm.get_num_tokens(text)"
   ]
  },
  {
   "cell_type": "code",
   "execution_count": 24,
   "id": "2fd68553",
   "metadata": {},
   "outputs": [],
   "source": [
    "text_splitter = RecursiveCharacterTextSplitter(chunk_size=10000, chunk_overlap=50)\n",
    "chunks = text_splitter.create_documents([text])"
   ]
  },
  {
   "cell_type": "code",
   "execution_count": 25,
   "id": "d45c4cba",
   "metadata": {},
   "outputs": [
    {
     "data": {
      "text/plain": [
       "3"
      ]
     },
     "execution_count": 25,
     "metadata": {},
     "output_type": "execute_result"
    }
   ],
   "source": [
    "len(chunks)"
   ]
  },
  {
   "cell_type": "code",
   "execution_count": 28,
   "id": "19517ed5",
   "metadata": {},
   "outputs": [],
   "source": [
    "chain = load_summarize_chain(\n",
    "    llm,\n",
    "    chain_type='map_reduce',\n",
    "    verbose=False\n",
    ")\n",
    "output_summary = chain.run(chunks)"
   ]
  },
  {
   "cell_type": "code",
   "execution_count": 29,
   "id": "69b724b1",
   "metadata": {},
   "outputs": [
    {
     "name": "stdout",
     "output_type": "stream",
     "text": [
      "The speaker, Blanca, is excited to resume her podcasts and will be focusing on the topic of slow improvements in flexibility. She discusses the different levels of proficiency in training and the importance of setting goals. Blanca emphasizes the importance of personal improvement and not comparing oneself to others. She also highlights the importance of strength training and proper rest and recovery. The author encourages a holistic approach to training and aims to motivate and inspire listeners to continue training with enthusiasm and self-esteem.\n"
     ]
    }
   ],
   "source": [
    "print(output_summary)"
   ]
  },
  {
   "cell_type": "code",
   "execution_count": 30,
   "id": "88d69f03",
   "metadata": {},
   "outputs": [
    {
     "data": {
      "text/plain": [
       "'Write a concise summary of the following:\\n\\n\\n\"{text}\"\\n\\n\\nCONCISE SUMMARY:'"
      ]
     },
     "execution_count": 30,
     "metadata": {},
     "output_type": "execute_result"
    }
   ],
   "source": [
    "chain.llm_chain.prompt.template"
   ]
  },
  {
   "cell_type": "code",
   "execution_count": 31,
   "id": "527d0680",
   "metadata": {},
   "outputs": [
    {
     "data": {
      "text/plain": [
       "'Write a concise summary of the following:\\n\\n\\n\"{text}\"\\n\\n\\nCONCISE SUMMARY:'"
      ]
     },
     "execution_count": 31,
     "metadata": {},
     "output_type": "execute_result"
    }
   ],
   "source": [
    "chain.combine_document_chain.llm_chain.prompt.template"
   ]
  },
  {
   "cell_type": "markdown",
   "id": "1fbe36c4",
   "metadata": {},
   "source": [
    "## Summarizind Docs using map_reduce with Custom Prompts"
   ]
  },
  {
   "cell_type": "code",
   "execution_count": 32,
   "id": "c8db7059",
   "metadata": {},
   "outputs": [],
   "source": [
    "map_prompt = '''\n",
    "Write a short and concise summary of the following:\n",
    "Text: `{text}``\n",
    "CONCISE SUMMARY:\n",
    "'''\n",
    "map_prompt_template = PromptTemplate(\n",
    "    input_variables=['text'],\n",
    "    template=map_prompt\n",
    ")"
   ]
  },
  {
   "cell_type": "code",
   "execution_count": 33,
   "id": "cfb6aebb",
   "metadata": {},
   "outputs": [],
   "source": [
    "combine_prompt = '''\n",
    "Write a concise summary of the following text that covers the key points.\n",
    "Add a title to the summary.\n",
    "Start your summary with an INTRODUCTION PARAGRAPH that gives an overview of the topic FOLLOWED\n",
    "by BULLET POINTS if possible AND end the summary with a CONCLUSIVE PHRASE.\n",
    "Text: `{text}`\n",
    "'''"
   ]
  },
  {
   "cell_type": "code",
   "execution_count": 34,
   "id": "2f2b224d",
   "metadata": {},
   "outputs": [],
   "source": [
    "combine_prompt_template = PromptTemplate(\n",
    "    template=combine_prompt, \n",
    "    input_variables=['text']\n",
    ")"
   ]
  },
  {
   "cell_type": "code",
   "execution_count": 35,
   "id": "a8a38430",
   "metadata": {},
   "outputs": [],
   "source": [
    "summary_chain = load_summarize_chain(\n",
    "    llm=llm,\n",
    "    chain_type='map_reduce',\n",
    "    map_prompt=map_prompt_template,\n",
    "    combine_prompt=combine_prompt_template,\n",
    "    verbose=False\n",
    ")"
   ]
  },
  {
   "cell_type": "code",
   "execution_count": 36,
   "id": "14a84a15",
   "metadata": {},
   "outputs": [],
   "source": [
    "output = summary_chain.run(chunks)"
   ]
  },
  {
   "cell_type": "code",
   "execution_count": 37,
   "id": "e6d17552",
   "metadata": {},
   "outputs": [
    {
     "name": "stdout",
     "output_type": "stream",
     "text": [
      "Title: The Importance of Skill Development and Holistic Training in Fitness\n",
      "\n",
      "Introduction:\n",
      "The text discusses the importance of skill development and holistic training in fitness, focusing on the example of flexibility improvement. It emphasizes the need for continuous learning, adapting teaching methods, and understanding the different stages of skill acquisition.\n",
      "\n",
      "Key Points:\n",
      "- Blanca, a podcast host, resumes her podcasts and highlights the importance of emotional health.\n",
      "- The podcast topic is slow improvements in flexibility.\n",
      "- Blanca shares a personal story about a student's impatience with progress.\n",
      "- Improvements differ for beginners and experienced individuals.\n",
      "- A study on skill acquisition and expertise levels is referenced.\n",
      "- The five stages of skill acquisition are explained.\n",
      "- Clear rules and short-term goals are important for beginners.\n",
      "- Advanced beginners develop critical thinking skills and apply knowledge to different situations.\n",
      "- The text discusses the shift in goals and focus as individuals progress from novice to expert.\n",
      "- The importance of understanding the type and pace of improvement is highlighted.\n",
      "- Strength training alongside flexibility is emphasized.\n",
      "- Proper rest and recovery are crucial for progress, particularly for the back.\n",
      "- A holistic approach to training, self-care, and enjoyment is encouraged.\n",
      "- The text concludes with a message of motivation and encouragement to continue training with enthusiasm and self-esteem.\n",
      "\n",
      "Conclusive Phrase:\n",
      "The text emphasizes the importance of skill development, understanding the stages of improvement, and taking a holistic approach to training for achieving fitness goals.\n"
     ]
    }
   ],
   "source": [
    "print(output)"
   ]
  },
  {
   "cell_type": "markdown",
   "id": "e488f957",
   "metadata": {},
   "source": [
    "## Summarizing Using the refine Chain"
   ]
  },
  {
   "cell_type": "code",
   "execution_count": 12,
   "id": "fa73b954",
   "metadata": {},
   "outputs": [],
   "source": [
    "from langchain.chat_models import ChatOpenAI\n",
    "from langchain import PromptTemplate\n",
    "from langchain.chains.summarize import load_summarize_chain\n",
    "from langchain.text_splitter import RecursiveCharacterTextSplitter\n",
    "from langchain.document_loaders import UnstructuredPDFLoader\n"
   ]
  },
  {
   "cell_type": "code",
   "execution_count": 13,
   "id": "88d22c3f",
   "metadata": {},
   "outputs": [],
   "source": [
    "#pip install unstructured -q"
   ]
  },
  {
   "cell_type": "code",
   "execution_count": 14,
   "id": "5fe2a05c",
   "metadata": {},
   "outputs": [],
   "source": [
    "#pip install pdf2image"
   ]
  },
  {
   "cell_type": "code",
   "execution_count": 15,
   "id": "8d774958",
   "metadata": {},
   "outputs": [],
   "source": [
    "#pip install pikepdf"
   ]
  },
  {
   "cell_type": "code",
   "execution_count": 16,
   "id": "1fab577d",
   "metadata": {},
   "outputs": [],
   "source": [
    "#pip uninstall pdfminer"
   ]
  },
  {
   "cell_type": "code",
   "execution_count": 17,
   "id": "89aa03cc",
   "metadata": {},
   "outputs": [],
   "source": [
    "#pip install pdfminer.six"
   ]
  },
  {
   "cell_type": "code",
   "execution_count": 18,
   "id": "862877d5",
   "metadata": {},
   "outputs": [],
   "source": [
    "#pip install cv2"
   ]
  },
  {
   "cell_type": "code",
   "execution_count": 19,
   "id": "0f7c2eb6",
   "metadata": {},
   "outputs": [
    {
     "data": {
      "text/plain": [
       "True"
      ]
     },
     "execution_count": 19,
     "metadata": {},
     "output_type": "execute_result"
    }
   ],
   "source": [
    "import os\n",
    "from dotenv import load_dotenv, find_dotenv\n",
    "load_dotenv(find_dotenv(),override=True)"
   ]
  },
  {
   "cell_type": "code",
   "execution_count": 20,
   "id": "cea65cb2",
   "metadata": {},
   "outputs": [],
   "source": [
    "#loader = UnstructuredPDFLoader('Análisis+de+un+sector+2.0.pdf')\n",
    "#data = loader.load()\n",
    "#print(data[0].page_content)"
   ]
  },
  {
   "cell_type": "code",
   "execution_count": 21,
   "id": "4f499d90",
   "metadata": {},
   "outputs": [],
   "source": [
    "#text_splitter = RecursiveCharacterTextSplitter(chunk_size=10000, schun_overlap=100)\n",
    "#chunk = text_splitter.split_documents(data)"
   ]
  },
  {
   "cell_type": "code",
   "execution_count": 22,
   "id": "3cb5f720",
   "metadata": {},
   "outputs": [],
   "source": [
    "#len (chunks)\n"
   ]
  },
  {
   "cell_type": "code",
   "execution_count": 23,
   "id": "776b20ad",
   "metadata": {},
   "outputs": [],
   "source": [
    "#llm = ChatOpenAI(temperature=0, model_name='gpt-3.5-turbo')\n"
   ]
  },
  {
   "cell_type": "code",
   "execution_count": 24,
   "id": "059a2fff",
   "metadata": {},
   "outputs": [],
   "source": [
    "#def print_embedding_cost(texts):\n",
    "#    import tiktoken\n",
    "#    enc = tiktoken.encoding_for_model('text-embedding-ada-002')\n",
    "#    total_tokens = sum([len(enc.encode(page.page_content)) for page in texts])\n",
    "#    print(f'Total tokens: {total_tokens}')\n",
    "#    print(f'Embeeding cost in USD: {total_tokens / 1000 * 0.0004:.6f}')\n",
    "    \n",
    "#print_embedding_cost(chunks)"
   ]
  },
  {
   "cell_type": "code",
   "execution_count": 25,
   "id": "eb8807a2",
   "metadata": {},
   "outputs": [],
   "source": [
    "#chain = load_summarize_chain(\n",
    "#    llm=llm,\n",
    "#    chain_type='refine',\n",
    "#    verbose=True\n",
    "#)\n",
    "#output_sumary = chain.runs(chunks)"
   ]
  },
  {
   "cell_type": "code",
   "execution_count": 26,
   "id": "5187701d",
   "metadata": {},
   "outputs": [],
   "source": [
    "#print(output_sumarry)"
   ]
  },
  {
   "cell_type": "markdown",
   "id": "c60e13dd",
   "metadata": {},
   "source": [
    "## Summarizing Using the refine Chain with Custom Prompts"
   ]
  },
  {
   "cell_type": "code",
   "execution_count": null,
   "id": "3da873b9",
   "metadata": {},
   "outputs": [],
   "source": [
    "#prompt_template = \"\"\"\n",
    "#Write a short and concise summary of the following extracting the key information:\n",
    "#Text: `{text}``\n",
    "#CONCISE SUMMARY:\n",
    "#\"\"\"\n",
    "#initial_prompt = PromptTemplate(tempate=prompt_template, input_variables=['text'])\n",
    "\n",
    "#refine_template = '''\n",
    "#    You job is to produce a final summary.\n",
    "#    I have provided an existing summary up to a certain point: {existing_answer}.\n",
    "#    Please refine the existing summary with some more context below.\n",
    "#    ----------\n",
    "#    {text}\n",
    "#    ----------\n",
    "#    start the finnal summary with an INTRODUCTION PARAGRAPH that gives an overview of the topic FOLLOWED by BULLET POINTS and if possible AND end the summary with a CONCLUSION PHRASE.\n",
    "#'''"
   ]
  },
  {
   "cell_type": "code",
   "execution_count": null,
   "id": "19100e98",
   "metadata": {},
   "outputs": [],
   "source": [
    "#refine_prompt = PromptTemplate(\n",
    "#    template=refine_template, \n",
    "#    input_variables=['existing_answer', 'text']\n",
    "#)"
   ]
  },
  {
   "cell_type": "code",
   "execution_count": null,
   "id": "3476a752",
   "metadata": {},
   "outputs": [],
   "source": [
    "#chain = load_summarize_chain(\n",
    "#    llm=llm,\n",
    "#    chain_type='refine',\n",
    "#    question_prompt=initial_prompt, \n",
    "#    refine_prompt=refine_prompt,\n",
    "#    return_intermediate_steps=False\n",
    "#)\n",
    "#output_summary = chian.run(chunks)\n",
    "#print(output_summary)"
   ]
  },
  {
   "cell_type": "markdown",
   "id": "c0f66701",
   "metadata": {},
   "source": [
    "## Summarizing Using LangChain Agents"
   ]
  },
  {
   "cell_type": "code",
   "execution_count": 27,
   "id": "b07527c9",
   "metadata": {},
   "outputs": [],
   "source": [
    "from langchain.chat_models import ChatOpenAI\n",
    "from langchain.agents import initialize_agent, Tool\n",
    "from langchain.utilities import WikipediaAPIWrapper"
   ]
  },
  {
   "cell_type": "code",
   "execution_count": 28,
   "id": "97586e9c",
   "metadata": {},
   "outputs": [],
   "source": [
    "llm = ChatOpenAI(temperature=0, model_name='gpt-3.5-turbo')\n",
    "wikipedia = WikipediaAPIWrapper()"
   ]
  },
  {
   "cell_type": "code",
   "execution_count": 29,
   "id": "f47a007c",
   "metadata": {},
   "outputs": [],
   "source": [
    "tools = [\n",
    "    Tool(\n",
    "        name='Wikipedia',\n",
    "        func=wikipedia.run,\n",
    "        description='Useful for when you need to get information from Wikipedia about a topic'\n",
    "    )\n",
    "]"
   ]
  },
  {
   "cell_type": "code",
   "execution_count": 31,
   "id": "3dde368d",
   "metadata": {},
   "outputs": [],
   "source": [
    "agent_executor = initialize_agent(tools, llm, agent='zero-shot-react-description', verbose=True)"
   ]
  },
  {
   "cell_type": "code",
   "execution_count": 32,
   "id": "ce88a62b",
   "metadata": {},
   "outputs": [
    {
     "name": "stdout",
     "output_type": "stream",
     "text": [
      "\n",
      "\n",
      "\u001b[1m> Entering new AgentExecutor chain...\u001b[0m\n",
      "\u001b[32;1m\u001b[1;3mI should look up George Washington on Wikipedia to get a short summary of his life and accomplishments.\n",
      "Action: Wikipedia\n",
      "Action Input: George Washington\u001b[0m\n",
      "Observation: \u001b[36;1m\u001b[1;3mPage: George Washington\n",
      "Summary: George Washington (February 22, 1732 – December 14, 1799) was an American military officer, statesman, and Founding Father who served as the first president of the United States from 1789 to 1797. Appointed by the Second Continental Congress as commander of the Continental Army in June 1775, Washington led Patriot forces to victory in the American Revolutionary War and then served as president of the Constitutional Convention in 1787, which drafted and ratified the Constitution of the United States and established the American federal government. Washington has thus been called the \"Father of his Country\".\n",
      "Washington's first public office, from 1749 to 1750, was as surveyor of Culpeper County in the Colony of Virginia. He subsequently received military training and was assigned command of the Virginia Regiment during the French and Indian War. He was later elected to the Virginia House of Burgesses and was named a delegate to the Continental Congress in Philadelphia, which appointed him Commander-in-Chief of the Continental Army. Washington led American forces to a decisive victory over the British in the Revolutionary War, leading the British to sign the Treaty of Paris, which acknowledged the sovereignty and independence of the United States. He resigned his commission in 1783 after the conclusion of the Revolutionary War.\n",
      "Washington played an indispensable role in adopting and ratifying the Constitution, which replaced the Articles of Confederation in 1789. He was then twice elected president by the Electoral College unanimously. As the first U.S. president, Washington implemented a strong, well-financed national government while remaining impartial in a fierce rivalry that emerged between cabinet members Thomas Jefferson and Alexander Hamilton. During the French Revolution, he proclaimed a policy of neutrality while sanctioning the Jay Treaty. He set enduring precedents for the office of president, including use of the title \"Mr. President\" and the two-term tradition. His 1796 farewell address became a preeminent statement on republicanism in which he wrote about the importance of national unity and the dangers regionalism, partisanship, and foreign influence pose to it.\n",
      "Washington has been memorialized by monuments, a federal holiday, various media depictions, geographical locations including the national capital, the State of Washington, stamps, and currency. He is ranked among the greatest U.S. presidents. In 1976, Washington was posthumously promoted to the rank of General of the Armies, the highest rank in the U.S. Army. His legacy has become increasingly controversial over time, however, as a result of his ownership of slaves and his relationship with slavery. His historical reputation has also been complicated in modern discourse by his policy of assimilating Native Americans into Anglo-American culture and waging war against indigenous peoples during the Revolutionary War and the Northwest Indian War.\n",
      "\n",
      "Page: George Washington Carver\n",
      "Summary: George Washington Carver (c. 1864 – January 5, 1943) was an American agricultural scientist and inventor who promoted alternative crops to cotton and methods to prevent soil depletion. He was one of the most prominent black scientists of the early 20th century.\n",
      "While a professor at Tuskegee Institute, Carver developed techniques to improve types of soils depleted by repeated plantings of cotton. He wanted poor farmers to grow other crops, such as peanuts and sweet potatoes, as a source of their own food and to improve their quality of life. The most popular of his 44 practical bulletins for farmers contained 105 food recipes using peanuts. Although he spent years developing and promoting numerous products made from peanuts, none became commercially successful.Apart from his work to improve the lives of farmers, Carver was also a leader in promoting environmentalism. He received numerous honors for his work, including the Spingarn Medal of the NA\u001b[0m\n",
      "Thought:\u001b[32;1m\u001b[1;3mI now know the final answer.\n",
      "Final Answer: George Washington (February 22, 1732 – December 14, 1799) was an American military officer, statesman, and Founding Father who served as the first president of the United States from 1789 to 1797. He played a crucial role in the American Revolutionary War, led the drafting and ratification of the Constitution, and established the American federal government. He is considered the \"Father of his Country\" and is ranked among the greatest U.S. presidents.\u001b[0m\n",
      "\n",
      "\u001b[1m> Finished chain.\u001b[0m\n",
      "George Washington (February 22, 1732 – December 14, 1799) was an American military officer, statesman, and Founding Father who served as the first president of the United States from 1789 to 1797. He played a crucial role in the American Revolutionary War, led the drafting and ratification of the Constitution, and established the American federal government. He is considered the \"Father of his Country\" and is ranked among the greatest U.S. presidents.\n"
     ]
    }
   ],
   "source": [
    "output = agent_executor.run('Can you please provide a short summary of George Washington?')\n",
    "print(output)"
   ]
  },
  {
   "cell_type": "code",
   "execution_count": null,
   "id": "10bf6ea5",
   "metadata": {},
   "outputs": [],
   "source": []
  }
 ],
 "metadata": {
  "kernelspec": {
   "display_name": "Python 3 (ipykernel)",
   "language": "python",
   "name": "python3"
  },
  "language_info": {
   "codemirror_mode": {
    "name": "ipython",
    "version": 3
   },
   "file_extension": ".py",
   "mimetype": "text/x-python",
   "name": "python",
   "nbconvert_exporter": "python",
   "pygments_lexer": "ipython3",
   "version": "3.10.9"
  }
 },
 "nbformat": 4,
 "nbformat_minor": 5
}
