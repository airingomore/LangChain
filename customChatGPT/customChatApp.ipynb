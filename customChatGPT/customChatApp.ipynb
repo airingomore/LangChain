{
 "cells": [
  {
   "cell_type": "code",
   "execution_count": 2,
   "id": "f0ba36bd",
   "metadata": {},
   "outputs": [
    {
     "data": {
      "text/plain": [
       "True"
      ]
     },
     "execution_count": 2,
     "metadata": {},
     "output_type": "execute_result"
    }
   ],
   "source": [
    "from dotenv import load_dotenv, find_dotenv\n",
    "load_dotenv(find_dotenv(), override=True)\n",
    "# override=True is to refresh the variable in case it changes"
   ]
  },
  {
   "cell_type": "code",
   "execution_count": null,
   "id": "cd8c36e6",
   "metadata": {},
   "outputs": [
    {
     "name": "stdout",
     "output_type": "stream",
     "text": [
      "Your prompt: Paris is\n",
      "the capital city of France. It is known for its beautiful architecture, iconic landmarks such as the Eiffel Tower and the Louvre Museum, and its rich history and cultural heritage. Paris is often called the \"City of Love\" and is a popular tourist destination. It is also known for its fashion, cuisine, and artistic contributions.\n",
      "--------------------------------------------------\n",
      "Your prompt: Bucharest is...\n",
      "the capital and largest city of Romania. It is located in the southeastern part of the country, and has a population of over 2 million people. Bucharest is known for its beautiful architecture, including the Palace of the Parliament, which is the heaviest building in the world. It is also a hub for cultural and artistic activities, with numerous museums, theaters, and art galleries. Additionally, Bucharest has a vibrant nightlife scene and offers a wide range of dining and entertainment options.\n",
      "--------------------------------------------------\n",
      "Your prompt: Its population is...\n",
      "It seems like you started a sentence, but the rest is missing. Could you please provide more information or complete your sentence?\n",
      "--------------------------------------------------\n"
     ]
    }
   ],
   "source": [
    "# use System Messages sets the behavior of the assistant from chain schema\n",
    "from langchain.chat_models import ChatOpenAI\n",
    "from langchain.schema import SystemMessage\n",
    "from langchain.chains import LLMChain\n",
    "from langchain.prompts import ChatPromptTemplate, HumanMessagePromptTemplate\n",
    "\n",
    "llm = ChatOpenAI(model_name='gpt-3.5-turbo', temperature=1)\n",
    "\n",
    "prompt = ChatPromptTemplate(\n",
    "    input_variables=['content'],\n",
    "    messages=[\n",
    "        SystemMessage(content='You are a chatbot having a conversation with a human.'),\n",
    "        HumanMessagePromptTemplate.from_template('{content}')\n",
    "    ]\n",
    ")\n",
    "\n",
    "chain = LLMChain(\n",
    "    llm=llm,\n",
    "    prompt=prompt,\n",
    "    verbose=False\n",
    ")\n",
    "\n",
    "while True:\n",
    "    content = input('Your prompt: ')\n",
    "    if content in ['quit','exit','bye']:\n",
    "        print('Goodbye!')\n",
    "        break\n",
    "        \n",
    "    response = chain.run({'content': content})\n",
    "    print(response)\n",
    "    print('-'*50)"
   ]
  },
  {
   "cell_type": "code",
   "execution_count": null,
   "id": "2d56273a",
   "metadata": {},
   "outputs": [],
   "source": []
  },
  {
   "cell_type": "code",
   "execution_count": null,
   "id": "0b8ff70e",
   "metadata": {},
   "outputs": [],
   "source": []
  }
 ],
 "metadata": {
  "kernelspec": {
   "display_name": "Python 3 (ipykernel)",
   "language": "python",
   "name": "python3"
  },
  "language_info": {
   "codemirror_mode": {
    "name": "ipython",
    "version": 3
   },
   "file_extension": ".py",
   "mimetype": "text/x-python",
   "name": "python",
   "nbconvert_exporter": "python",
   "pygments_lexer": "ipython3",
   "version": "3.10.9"
  }
 },
 "nbformat": 4,
 "nbformat_minor": 5
}
