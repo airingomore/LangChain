{
 "cells": [
  {
   "cell_type": "markdown",
   "id": "5769cb58",
   "metadata": {},
   "source": [
    "# LangChain Basics\n"
   ]
  },
  {
   "cell_type": "code",
   "execution_count": 1,
   "id": "9ad34d4d",
   "metadata": {},
   "outputs": [],
   "source": [
    "#!pip install -r ./requirements.txt -q"
   ]
  },
  {
   "cell_type": "code",
   "execution_count": 2,
   "id": "587d2308",
   "metadata": {},
   "outputs": [
    {
     "name": "stdout",
     "output_type": "stream",
     "text": [
      "Name: langchain\r\n",
      "Version: 0.0.311\r\n",
      "Summary: Building applications with LLMs through composability\r\n",
      "Home-page: https://github.com/langchain-ai/langchain\r\n",
      "Author: \r\n",
      "Author-email: \r\n",
      "License: MIT\r\n",
      "Location: /Users/a0794476/anaconda3/lib/python3.10/site-packages\r\n",
      "Requires: aiohttp, anyio, async-timeout, dataclasses-json, jsonpatch, langsmith, numpy, pydantic, PyYAML, requests, SQLAlchemy, tenacity\r\n",
      "Required-by: \r\n"
     ]
    }
   ],
   "source": [
    "#!pip show langchain"
   ]
  },
  {
   "cell_type": "code",
   "execution_count": 3,
   "id": "ad9b68a9",
   "metadata": {},
   "outputs": [],
   "source": [
    "#!pip install langchain --upgrade -q"
   ]
  },
  {
   "cell_type": "markdown",
   "id": "e85b100e",
   "metadata": {},
   "source": [
    "### Python-dotenv\n"
   ]
  },
  {
   "cell_type": "code",
   "execution_count": 9,
   "id": "0662ac7f",
   "metadata": {},
   "outputs": [
    {
     "data": {
      "text/plain": [
       "'237eb6ae-4d89-46b9-8766-943c179d30e2'"
      ]
     },
     "execution_count": 9,
     "metadata": {},
     "output_type": "execute_result"
    }
   ],
   "source": [
    "import os\n",
    "from dotenv import load_dotenv, find_dotenv\n",
    "load_dotenv(find_dotenv(),override=True)\n",
    "\n",
    "os.environ.get('PINECONE_API_KEY')\n"
   ]
  },
  {
   "cell_type": "markdown",
   "id": "8e7183ef",
   "metadata": {},
   "source": [
    "### LLM Models (Wrappers): GPT-3"
   ]
  },
  {
   "cell_type": "code",
   "execution_count": null,
   "id": "7e4601cb",
   "metadata": {},
   "outputs": [],
   "source": []
  }
 ],
 "metadata": {
  "kernelspec": {
   "display_name": "Python 3 (ipykernel)",
   "language": "python",
   "name": "python3"
  },
  "language_info": {
   "codemirror_mode": {
    "name": "ipython",
    "version": 3
   },
   "file_extension": ".py",
   "mimetype": "text/x-python",
   "name": "python",
   "nbconvert_exporter": "python",
   "pygments_lexer": "ipython3",
   "version": "3.10.9"
  }
 },
 "nbformat": 4,
 "nbformat_minor": 5
}
